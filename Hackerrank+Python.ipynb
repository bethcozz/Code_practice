{
 "cells": [
  {
   "cell_type": "code",
   "execution_count": 1,
   "metadata": {},
   "outputs": [
    {
     "data": {
      "text/plain": [
       "'\\nGiven an integer, , perform the following conditional actions:\\n\\nIf  is odd, print Weird\\nIf  is even and in the inclusive range of  to , print Not Weird\\nIf  is even and in the inclusive range of  to , print Weird\\nIf  is even and greater than , print Not Weird\\nInput Format\\n\\nA single line containing a positive integer, .\\n\\nConstraints\\n\\nOutput Format\\n\\nPrint Weird if the number is weird; otherwise, print Not Weird.\\n'"
      ]
     },
     "execution_count": 1,
     "metadata": {},
     "output_type": "execute_result"
    }
   ],
   "source": [
    "'''\n",
    "Given an integer, , perform the following conditional actions:\n",
    "\n",
    "If N is odd, print Weird\n",
    "If N is even and in the inclusive range of 2 to 5, print Not Weird\n",
    "If N is even and in the inclusive range of 6 to 20, print Weird\n",
    "If N is even and greater than 20, print Not Weird\n",
    "Input Format\n",
    "\n",
    "A single line containing a positive integer, .\n",
    "\n",
    "Constraints\n",
    "\n",
    "Output Format\n",
    "\n",
    "Print Weird if the number is weird; otherwise, print Not Weird.\n",
    "'''"
   ]
  },
  {
   "cell_type": "code",
   "execution_count": 6,
   "metadata": {},
   "outputs": [
    {
     "name": "stdout",
     "output_type": "stream",
     "text": [
      "39\n",
      "Weird\n"
     ]
    }
   ],
   "source": [
    "if __name__ == '__main__':\n",
    "    n = int(input()) \n",
    "    if n % 2 == 0:  \n",
    "        print('Not Weird')\n",
    "    else:\n",
    "        print('Weird')\n",
    "##This function only does odd/even - not the rest of the constraints        "
   ]
  },
  {
   "cell_type": "code",
   "execution_count": 14,
   "metadata": {},
   "outputs": [
    {
     "name": "stdout",
     "output_type": "stream",
     "text": [
      "14\n",
      "Weird\n"
     ]
    }
   ],
   "source": [
    "if __name__ == '__main__':\n",
    "    n = int(input())\n",
    "    if n % 2 == 0 and (n in range (2, 6) or n > 20):\n",
    "        print('Not Weird')\n",
    "    else:\n",
    "        print ('Weird')\n",
    "#my solution based on below:        "
   ]
  },
  {
   "cell_type": "code",
   "execution_count": null,
   "metadata": {
    "collapsed": true
   },
   "outputs": [],
   "source": [
    "n = int(input().strip())\n",
    "check = {True: \"Not Weird\", False: \"Weird\"}\n",
    "\n",
    "print(check[\n",
    "        n%2==0 and (\n",
    "            n in range(2,6) or \n",
    "            n > 20)\n",
    "    ])\n",
    "#submitted solution, explanation below:"
   ]
  },
  {
   "cell_type": "code",
   "execution_count": null,
   "metadata": {
    "collapsed": true
   },
   "outputs": [],
   "source": [
    "'''\n",
    "I'll try my best to explain what's happening. :)\n",
    "\n",
    "Line 1. We just take the input, remove any excess whitespace and store the integer in a variable.\n",
    "\n",
    "Line 2. We define a dictionary, with boolean values as keys. If you didn't know this before, \n",
    "dictionaries can use any types as keys, not just strings! We are now using this to translate\n",
    "boolean values to strings.\n",
    "\n",
    "Now, we ask Python to print something. We put the dictionary we just defined inside, and \n",
    "expect the program to print the value of the key we put in.\n",
    "\n",
    "I've cut some corners here, because usually you would see a single variable inside those square \n",
    "brackets. I just didn't feel like adding an extra line, so I put the entire boolean expression \n",
    "instead.\n",
    "\n",
    "Here comes the interesting part: first, we are checking if the input number is even. \n",
    "If it isn't, the expression will automatically return False, the dictionary outputs Weird \n",
    "and the print function prints the string on the console.\n",
    "\n",
    "However, if the input number is indeed even, we then check if it's in the range from 2 to 6\n",
    "or if it's more than 20. If either of these are true, the expression returns True, the \n",
    "dictionary outputs Not Weird and the said string is printed on the screen. If neither of \n",
    "these expressions are true, the expression returns False.\n",
    "\n",
    "As for why I wrote the print function like that, I'd expect that to be more readable than \n",
    "a tight block of text. :p\n",
    "'''"
   ]
  },
  {
   "cell_type": "code",
   "execution_count": null,
   "metadata": {
    "collapsed": true
   },
   "outputs": [],
   "source": [
    "'''\n",
    "Task \n",
    "Read two integers from STDIN and print three lines where:\n",
    "\n",
    "The first line contains the sum of the two numbers.\n",
    "The second line contains the difference of the two numbers (first - second).\n",
    "The third line contains the product of the two numbers.\n",
    "Input Format\n",
    "\n",
    "The first line contains the first integer, a. The second line contains the second integer, b.\n",
    "\n",
    "Constraints\n",
    "1 <= a <= 10^10\n",
    "1 <= b <= 10^10\n",
    "\n",
    "Output Format\n",
    "\n",
    "Print the three lines as explained above.\n",
    "\n",
    "Sample Input\n",
    "\n",
    "3\n",
    "2 \n",
    "Sample Output\n",
    "\n",
    "5\n",
    "1\n",
    "6\n",
    "'''"
   ]
  },
  {
   "cell_type": "code",
   "execution_count": 19,
   "metadata": {},
   "outputs": [
    {
     "name": "stdout",
     "output_type": "stream",
     "text": [
      "10000000001\n",
      "10000000002\n",
      "20000000003\n",
      "-1\n",
      "100000000030000000002\n"
     ]
    }
   ],
   "source": [
    "if __name__ == '__main__':\n",
    "    a = int(input())\n",
    "    b = int(input())  \n",
    "    a in range(1, 10000000000)\n",
    "    b in range(1, 10000000000)\n",
    "    print(a + b) \n",
    "    print(a - b)\n",
    "    print(a * b)"
   ]
  },
  {
   "cell_type": "code",
   "execution_count": null,
   "metadata": {
    "collapsed": true
   },
   "outputs": [],
   "source": [
    "'''\n",
    "Task \n",
    "Read two integers and print two lines. The first line should contain integer division, a // b.\n",
    "The second line should contain float division, a/b.\n",
    "\n",
    "You don't need to perform any rounding or formatting operations.\n",
    "\n",
    "Input Format \n",
    "The first line contains the first integer, a. The second line contains the second integer,b.\n",
    "\n",
    "Output Format \n",
    "Print the two lines as described above.\n",
    "'''"
   ]
  },
  {
   "cell_type": "code",
   "execution_count": null,
   "metadata": {
    "collapsed": true
   },
   "outputs": [],
   "source": [
    "if __name__ == '__main__':\n",
    "    a = int(input())\n",
    "    b = int(input())\n",
    "    print(a // b)\n",
    "    print(a / b)"
   ]
  },
  {
   "cell_type": "code",
   "execution_count": null,
   "metadata": {
    "collapsed": true
   },
   "outputs": [],
   "source": [
    "'''\n",
    "Task \n",
    "Read an integer N. For all non-negative integers i<n , print i^2. See the sample for details.\n",
    "\n",
    "Input Format\n",
    "\n",
    "The first and only line contains the integer,n.\n",
    "\n",
    "Constraints\n",
    "1 =< n =< 20\n",
    "\n",
    "Output Format\n",
    "\n",
    "Print N lines, one corresponding to each i.\n",
    "'''"
   ]
  },
  {
   "cell_type": "code",
   "execution_count": null,
   "metadata": {
    "collapsed": true
   },
   "outputs": [],
   "source": [
    "'''\n",
    "TYPES OF LOOPS:\n",
    "\n",
    "A for loop:\n",
    "\n",
    "for i in range(0, 5):\n",
    "    print i\n",
    "    \n",
    "And a while loop:\n",
    "\n",
    "i = 0\n",
    "while i < 5:\n",
    "    print i\n",
    "    i += 1\n",
    "'''"
   ]
  },
  {
   "cell_type": "code",
   "execution_count": 30,
   "metadata": {},
   "outputs": [
    {
     "name": "stdout",
     "output_type": "stream",
     "text": [
      "5\n",
      "0\n",
      "1\n",
      "4\n",
      "9\n",
      "16\n"
     ]
    }
   ],
   "source": [
    "if __name__ == '__main__':\n",
    "    n = int(input())\n",
    "for i in range(0, n):\n",
    "        print(i**2)\n",
    "#i**2 means i^2"
   ]
  },
  {
   "cell_type": "code",
   "execution_count": 31,
   "metadata": {},
   "outputs": [
    {
     "data": {
      "text/plain": [
       "\"\\nThis does the same thing:\\nif __name__ == '__main__':\\n    n = int(input())\\nfor i in range(0, n):\\n        print(i**2)\\n#i**2 means i^2\\n\""
      ]
     },
     "execution_count": 31,
     "metadata": {},
     "output_type": "execute_result"
    }
   ],
   "source": [
    "'''\n",
    "This does the same thing:\n",
    "if __name__ == '__main__':\n",
    "    n = int(input())\n",
    "for i in range(0, n):\n",
    "        print(i**2)\n",
    "#i**2 means i^2\n",
    "'''"
   ]
  },
  {
   "cell_type": "code",
   "execution_count": null,
   "metadata": {
    "collapsed": true
   },
   "outputs": [],
   "source": [
    "'''\n",
    "We add a Leap Day on February 29, almost every four years. The leap day is an extra, or \n",
    "intercalary day and we add it to the shortest month of the year, February. \n",
    "In the Gregorian calendar three criteria must be taken into account to identify leap years:\n",
    "\n",
    "The year can be evenly divided by 4, is a leap year, unless:\n",
    "The year can be evenly divided by 100, it is NOT a leap year, unless:\n",
    "The year is also evenly divisible by 400. Then it is a leap year.\n",
    "This means that in the Gregorian calendar, the years 2000 and 2400 are leap years, \n",
    "while 1800, 1900, 2100, 2200, 2300 and 2500 are NOT leap years.\n",
    "\n",
    "Task \n",
    "You are given the year, and you have to write a function to check if the year is leap or not.\n",
    "\n",
    "Note that you have to complete the function and remaining code is given as template.\n",
    "\n",
    "Input Format\n",
    "\n",
    "Read y, the year that needs to be checked.\n",
    "\n",
    "Constraints\n",
    "\n",
    "1900<=y<=10^5\n",
    "\n",
    "Output Format\n",
    "\n",
    "Output is taken care of by the template. Your function must return a boolean value (True/False)\n",
    "'''"
   ]
  },
  {
   "cell_type": "code",
   "execution_count": 35,
   "metadata": {},
   "outputs": [
    {
     "name": "stdout",
     "output_type": "stream",
     "text": [
      "2400\n",
      "None\n"
     ]
    }
   ],
   "source": [
    "def is_leap(year):\n",
    "    leap = False\n",
    "    if year % 4 == 0:\n",
    "        if year % 100 !=0:\n",
    "            if year % 400==0:\n",
    "                return True\n",
    "    else:\n",
    "        return leap\n",
    "   # return leap\n",
    "year = int(input())\n",
    "print(is_leap(year))"
   ]
  },
  {
   "cell_type": "code",
   "execution_count": 47,
   "metadata": {},
   "outputs": [
    {
     "name": "stdout",
     "output_type": "stream",
     "text": [
      "1990\n",
      "None\n"
     ]
    }
   ],
   "source": [
    "def is_leap(year):\n",
    "    leap = False\n",
    "    if year % 4 == 0 and (year % 400 == 0 and year % 100 !=0):\n",
    "        return leap\n",
    "\n",
    "year = int(input())\n",
    "print(is_leap(year))"
   ]
  },
  {
   "cell_type": "code",
   "execution_count": 43,
   "metadata": {},
   "outputs": [
    {
     "name": "stdout",
     "output_type": "stream",
     "text": [
      "2400\n",
      "True\n"
     ]
    }
   ],
   "source": [
    "def is_leap(year):\n",
    "    return year % 4 == 0 and (year % 400 == 0 or year % 100 != 0)\n",
    "year = int(input())\n",
    "print(is_leap(year))\n",
    "#We don't need true/false if/else b/c will already return a Boolean"
   ]
  },
  {
   "cell_type": "code",
   "execution_count": 52,
   "metadata": {},
   "outputs": [
    {
     "name": "stdout",
     "output_type": "stream",
     "text": [
      "2000\n",
      "True\n"
     ]
    }
   ],
   "source": [
    "def is_leap(y):\n",
    "    return ((y%4==0)and(y%100!=0)or(y%400==0))\n",
    "year = int(input())\n",
    "print(is_leap(year))"
   ]
  },
  {
   "cell_type": "code",
   "execution_count": null,
   "metadata": {
    "collapsed": true
   },
   "outputs": [],
   "source": [
    "'''\n",
    "Read an integer N.\n",
    "\n",
    "Without using any string methods, try to print the following:\n",
    "123...N\n",
    "\n",
    "Note that \"...\" represents the values in between.\n",
    "\n",
    "Input Format \n",
    "The first line contains an integer N.\n",
    "\n",
    "Output Format \n",
    "Output the answer as explained in the task.\n",
    "'''"
   ]
  },
  {
   "cell_type": "code",
   "execution_count": null,
   "metadata": {
    "collapsed": true
   },
   "outputs": [],
   "source": []
  },
  {
   "cell_type": "code",
   "execution_count": null,
   "metadata": {
    "collapsed": true
   },
   "outputs": [],
   "source": []
  },
  {
   "cell_type": "code",
   "execution_count": null,
   "metadata": {
    "collapsed": true
   },
   "outputs": [],
   "source": []
  },
  {
   "cell_type": "code",
   "execution_count": null,
   "metadata": {
    "collapsed": true
   },
   "outputs": [],
   "source": []
  },
  {
   "cell_type": "code",
   "execution_count": null,
   "metadata": {
    "collapsed": true
   },
   "outputs": [],
   "source": []
  },
  {
   "cell_type": "code",
   "execution_count": null,
   "metadata": {
    "collapsed": true
   },
   "outputs": [],
   "source": []
  },
  {
   "cell_type": "code",
   "execution_count": null,
   "metadata": {
    "collapsed": true
   },
   "outputs": [],
   "source": []
  },
  {
   "cell_type": "code",
   "execution_count": null,
   "metadata": {
    "collapsed": true
   },
   "outputs": [],
   "source": []
  },
  {
   "cell_type": "code",
   "execution_count": null,
   "metadata": {
    "collapsed": true
   },
   "outputs": [],
   "source": []
  },
  {
   "cell_type": "code",
   "execution_count": null,
   "metadata": {
    "collapsed": true
   },
   "outputs": [],
   "source": []
  },
  {
   "cell_type": "code",
   "execution_count": null,
   "metadata": {
    "collapsed": true
   },
   "outputs": [],
   "source": []
  },
  {
   "cell_type": "code",
   "execution_count": null,
   "metadata": {
    "collapsed": true
   },
   "outputs": [],
   "source": []
  },
  {
   "cell_type": "code",
   "execution_count": null,
   "metadata": {
    "collapsed": true
   },
   "outputs": [],
   "source": []
  }
 ],
 "metadata": {
  "kernelspec": {
   "display_name": "Python 3",
   "language": "python",
   "name": "python3"
  },
  "language_info": {
   "codemirror_mode": {
    "name": "ipython",
    "version": 3
   },
   "file_extension": ".py",
   "mimetype": "text/x-python",
   "name": "python",
   "nbconvert_exporter": "python",
   "pygments_lexer": "ipython3",
   "version": "3.6.3"
  }
 },
 "nbformat": 4,
 "nbformat_minor": 2
}
