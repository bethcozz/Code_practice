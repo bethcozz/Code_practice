{
 "cells": [
  {
   "cell_type": "code",
   "execution_count": 10,
   "metadata": {},
   "outputs": [
    {
     "name": "stdout",
     "output_type": "stream",
     "text": [
      "True\n"
     ]
    }
   ],
   "source": [
    "#Write a function that checks if a given word is a palindrome.\n",
    "class Palindrome:\n",
    "\n",
    "    @staticmethod\n",
    "    def is_palindrome(num):\n",
    "        if num[::-1].lower() == num.lower():\n",
    "            return True\n",
    "        else:\n",
    "            return False\n",
    "       # return word == word[::-1]\n",
    "       # return None\n",
    "\n",
    "print(Palindrome.is_palindrome('Deleveled'))\n",
    "\n",
    "#[::-1] is a way to reverse a list. updates the index by -1 on each iteration\n",
    "#starts from 0, and on each iteration moves left by one\n",
    "\n",
    "#[1::2] - select range between 1 and the end of list with step 2 (1st, 3rd, 5th, etc.)\n",
    "#[::2] - select range b/w 0 and l with step 2\n",
    "#[::-1] - select range b/w 0 and l with step -1 (move left by one step each time)"
   ]
  },
  {
   "cell_type": "code",
   "execution_count": 15,
   "metadata": {},
   "outputs": [
    {
     "name": "stdout",
     "output_type": "stream",
     "text": [
      "True\n"
     ]
    }
   ],
   "source": [
    "#non-function solution:\n",
    "my_str = 'deleveled'\n",
    "rev_str = reversed(my_str)\n",
    "\n",
    "if list(my_str) == list(rev_str):\n",
    "        print('True')\n",
    "else:\n",
    "        print('False')"
   ]
  },
  {
   "cell_type": "code",
   "execution_count": 21,
   "metadata": {},
   "outputs": [
    {
     "name": "stdout",
     "output_type": "stream",
     "text": [
      "True\n"
     ]
    }
   ],
   "source": [
    "#Another one\n",
    "def reverse(s):\n",
    "    return s[::-1]\n",
    "\n",
    "def is_palindrome(s):\n",
    "    rev = reverse(s)\n",
    "    \n",
    "    if (s==rev):\n",
    "        return True\n",
    "    return False\n",
    "\n",
    "s = 'malayalam'\n",
    "ans = is_palindrome(s)\n",
    "\n",
    "if ans==1:\n",
    "    print('True')\n",
    "else:\n",
    "    print('False')"
   ]
  },
  {
   "cell_type": "code",
   "execution_count": null,
   "metadata": {
    "collapsed": true
   },
   "outputs": [],
   "source": [
    "#DIRECTIONS: Write a function that checks if a given word is a palindrome.\n",
    "class Palindrome:\n",
    "\n",
    "    @staticmethod\n",
    "    def is_palindrome(word):\n",
    "        return None\n",
    "\n",
    "print(Palindrome.is_palindrome('Deleveled'))"
   ]
  },
  {
   "cell_type": "code",
   "execution_count": null,
   "metadata": {
    "collapsed": true
   },
   "outputs": [],
   "source": [
    "'''\n",
    "Implement a group_by_owners function that:\n",
    "- accepts a dictionary containing the file owner names for each file name\n",
    "- returns a dictionary containing a list of file names for each owner name, in any order\n",
    "\n",
    "E.g., for dictionary{'input.txt': 'Randy', 'Code.py': 'Stan', 'Output.txt': 'Randy'}\n",
    "the group_by_owners function should return\n",
    "\n",
    "{'Randy': ['Input.txt', 'Output.txt'], 'Stan': [Code.py]}\n",
    "'''\n"
   ]
  },
  {
   "cell_type": "code",
   "execution_count": null,
   "metadata": {
    "collapsed": true
   },
   "outputs": [],
   "source": [
    "class FileOwners:\n",
    "\n",
    "    @staticmethod\n",
    "    def group_by_owners(files):\n",
    "        return None\n",
    "\n",
    "files = {\n",
    "    'Input.txt': 'Randy',\n",
    "    'Code.py': 'Stan',\n",
    "    'Output.txt': 'Randy'\n",
    "}\n",
    "print(FileOwners.group_by_owners(files))"
   ]
  },
  {
   "cell_type": "code",
   "execution_count": null,
   "metadata": {
    "collapsed": true
   },
   "outputs": [],
   "source": [
    "super_villians = {'fiddler': 'Isaac Bowin', \n",
    "                            'Captain Cold' : 'Leonard Snart'}\n",
    "print(super_villians['Captain Cold'])\n",
    "\n",
    "print(super_villians.keys())\n",
    "print(super_villians.values())"
   ]
  },
  {
   "cell_type": "code",
   "execution_count": null,
   "metadata": {
    "collapsed": true
   },
   "outputs": [],
   "source": [
    "return files.values()"
   ]
  },
  {
   "cell_type": "code",
   "execution_count": null,
   "metadata": {
    "collapsed": true
   },
   "outputs": [],
   "source": []
  },
  {
   "cell_type": "code",
   "execution_count": null,
   "metadata": {
    "collapsed": true
   },
   "outputs": [],
   "source": []
  },
  {
   "cell_type": "code",
   "execution_count": null,
   "metadata": {
    "collapsed": true
   },
   "outputs": [],
   "source": []
  },
  {
   "cell_type": "code",
   "execution_count": null,
   "metadata": {
    "collapsed": true
   },
   "outputs": [],
   "source": []
  },
  {
   "cell_type": "code",
   "execution_count": null,
   "metadata": {
    "collapsed": true
   },
   "outputs": [],
   "source": []
  },
  {
   "cell_type": "code",
   "execution_count": 9,
   "metadata": {},
   "outputs": [
    {
     "name": "stdout",
     "output_type": "stream",
     "text": [
      "True\n"
     ]
    }
   ],
   "source": []
  },
  {
   "cell_type": "code",
   "execution_count": null,
   "metadata": {
    "collapsed": true
   },
   "outputs": [],
   "source": []
  },
  {
   "cell_type": "code",
   "execution_count": null,
   "metadata": {
    "collapsed": true
   },
   "outputs": [],
   "source": []
  },
  {
   "cell_type": "code",
   "execution_count": null,
   "metadata": {
    "collapsed": true
   },
   "outputs": [],
   "source": []
  },
  {
   "cell_type": "code",
   "execution_count": null,
   "metadata": {
    "collapsed": true
   },
   "outputs": [],
   "source": []
  },
  {
   "cell_type": "code",
   "execution_count": null,
   "metadata": {
    "collapsed": true
   },
   "outputs": [],
   "source": []
  },
  {
   "cell_type": "code",
   "execution_count": null,
   "metadata": {
    "collapsed": true
   },
   "outputs": [],
   "source": []
  },
  {
   "cell_type": "code",
   "execution_count": null,
   "metadata": {
    "collapsed": true
   },
   "outputs": [],
   "source": []
  },
  {
   "cell_type": "code",
   "execution_count": 2,
   "metadata": {},
   "outputs": [
    {
     "name": "stdout",
     "output_type": "stream",
     "text": [
      "None\n"
     ]
    }
   ],
   "source": []
  },
  {
   "cell_type": "code",
   "execution_count": null,
   "metadata": {
    "collapsed": true
   },
   "outputs": [],
   "source": [
    "'''\n",
    "Given the following data definition, write a query that returns the # of students whose first\n",
    "name is John.\n",
    "\n",
    "TABLE students\n",
    "    id INTEGER PRIMARY KEY,\n",
    "    firstName VARCHAR(30) NOT NULL,\n",
    "    lastName VARCHAR(30) NOT NULL;\n",
    "    \n",
    "INSERT INTO students (id, firstName, lastName)\n",
    "VALUES (1, 'John', 'Smith');\n",
    "\n",
    "INSERT INTO students (id, firstName, lastName)\n",
    "VALUES (2, 'Jane', 'Doe');\n",
    "\n",
    "INSERT INTO students (id, firstName, lastName)\n",
    "VALUES (3, 'Sally', 'Smith');\n",
    "\n",
    "INSERT INTO students (id, firstName, lastName)\n",
    "VALUES (4, 'John', 'Roberts'); \n",
    "\n",
    "INSERT INTO students (id, firstName, lastName)\n",
    "VALUES (5, 'Eleanor', 'Roosevelt');\n",
    "\n",
    "INSERT INTO students (id, firstName, lastName)\n",
    "VALUES (6, 'John', 'Jacobs');\n",
    "\n",
    "'''"
   ]
  },
  {
   "cell_type": "code",
   "execution_count": null,
   "metadata": {
    "collapsed": true
   },
   "outputs": [],
   "source": [
    "# -- Write only the SQL statement that solves the problem and nothing else.\n",
    "SELECT COUNT(firstName)\n",
    "FROM students\n",
    "WHERE firstName = John;"
   ]
  },
  {
   "cell_type": "code",
   "execution_count": null,
   "metadata": {
    "collapsed": true
   },
   "outputs": [],
   "source": [
    "'''\n",
    "Each item in a web shop belongs to a different seller. To ensure service quality,\n",
    "each seller has a rating. Data kept in following 2 tables:\n",
    "\n",
    "TABLE sellers\n",
    "    id INTEGER PRIMARY KEY,\n",
    "    name VARCHAR(30) NOT NULL,\n",
    "    rating VARCHAR(30) NOT NULL\n",
    "    \n",
    "TABLE items\n",
    "    id INTEGER PRIMARY KEY,\n",
    "    name VARCHAR(30) NOT NULL,\n",
    "    sellerId INTEGER REFERENCES sellers(id)\n",
    "    \n",
    "Write a query that selects the item name and the name of its seller for each item\n",
    "that belongs to a seller w/ a rating of more than 4\n",
    "'''"
   ]
  },
  {
   "cell_type": "code",
   "execution_count": null,
   "metadata": {
    "collapsed": true
   },
   "outputs": [],
   "source": [
    "'''\n",
    "EXAMPLE:\n",
    "-- Suggested testing environment: \n",
    "-- http://sqlite.online/\n",
    "\n",
    "-- Example case create statement:\n",
    "CREATE TABLE sellers (\n",
    "  id INTEGER NOT NULL PRIMARY KEY,\n",
    "  name VARCHAR(30) NOT NULL,\n",
    "  rating INTEGER NOT NULL\n",
    ");\n",
    "\n",
    "CREATE TABLE items (\n",
    "  id INTEGER NOT NULL PRIMARY KEY,\n",
    "  name VARCHAR(30) NOT NULL,\n",
    "  sellerId INTEGER REFERENCES sellers(id)\n",
    ");\n",
    "\n",
    "INSERT INTO sellers(id, name, rating) VALUES(1, 'Roger', 3);\n",
    "INSERT INTO sellers(id, name, rating) VALUES(2, 'Penny', 5);\n",
    "\n",
    "INSERT INTO items(id, name, sellerId) VALUES(1, 'Notebook', 2);\n",
    "INSERT INTO items(id, name, sellerId) VALUES(2, 'Stapler', 1);\n",
    "INSERT INTO items(id, name, sellerId) VALUES(3, 'Pencil', 2);\n",
    "\n",
    "-- Expected output (in any order):\n",
    "-- Item      Seller\n",
    "-- ----------------\n",
    "-- Notebook  Penny\n",
    "-- Pencil    Penny\n",
    "'''"
   ]
  },
  {
   "cell_type": "code",
   "execution_count": null,
   "metadata": {
    "collapsed": true
   },
   "outputs": [],
   "source": [
    "'''\n",
    "First, join two lists into new list on id\n",
    "Next, make name productname for joined list\n",
    "Return name, product name where rating > 4\n",
    "'''"
   ]
  },
  {
   "cell_type": "code",
   "execution_count": null,
   "metadata": {
    "collapsed": true
   },
   "outputs": [],
   "source": []
  },
  {
   "cell_type": "code",
   "execution_count": null,
   "metadata": {
    "collapsed": true
   },
   "outputs": [],
   "source": []
  }
 ],
 "metadata": {
  "kernelspec": {
   "display_name": "Python 3",
   "language": "python",
   "name": "python3"
  },
  "language_info": {
   "codemirror_mode": {
    "name": "ipython",
    "version": 3
   },
   "file_extension": ".py",
   "mimetype": "text/x-python",
   "name": "python",
   "nbconvert_exporter": "python",
   "pygments_lexer": "ipython3",
   "version": "3.6.3"
  }
 },
 "nbformat": 4,
 "nbformat_minor": 2
}
