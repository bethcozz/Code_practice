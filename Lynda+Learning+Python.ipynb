{
 "cells": [
  {
   "cell_type": "code",
   "execution_count": 1,
   "metadata": {},
   "outputs": [
    {
     "name": "stdout",
     "output_type": "stream",
     "text": [
      "Hello World\n"
     ]
    }
   ],
   "source": [
    "print('Hello World')"
   ]
  },
  {
   "cell_type": "code",
   "execution_count": 2,
   "metadata": {
    "collapsed": true
   },
   "outputs": [],
   "source": [
    "def main():\n",
    "    print('hello world!')\n",
    "#define a function called main. print hello world.\n",
    "#nothing happens b/c not calling this function"
   ]
  },
  {
   "cell_type": "code",
   "execution_count": 4,
   "metadata": {},
   "outputs": [
    {
     "name": "stdout",
     "output_type": "stream",
     "text": [
      "hello world!\n"
     ]
    }
   ],
   "source": [
    "if __name__ == \"__main__\":\n",
    "    main()\n",
    "    \n",
    "#if __name has value __main, means executed as a main program\n",
    "#so main should be called\n",
    "#included as a library or executed as a program\n",
    "#when if function is true"
   ]
  },
  {
   "cell_type": "code",
   "execution_count": 19,
   "metadata": {},
   "outputs": [
    {
     "name": "stdout",
     "output_type": "stream",
     "text": [
      "0\n"
     ]
    }
   ],
   "source": [
    "f = 0\n",
    "print(f)"
   ]
  },
  {
   "cell_type": "code",
   "execution_count": null,
   "metadata": {
    "collapsed": true
   },
   "outputs": [],
   "source": []
  },
  {
   "cell_type": "code",
   "execution_count": 20,
   "metadata": {},
   "outputs": [
    {
     "name": "stdout",
     "output_type": "stream",
     "text": [
      "abc\n"
     ]
    }
   ],
   "source": [
    "f = 'abc'\n",
    "print(f)\n",
    "#can redefine f"
   ]
  },
  {
   "cell_type": "code",
   "execution_count": 8,
   "metadata": {},
   "outputs": [
    {
     "name": "stdout",
     "output_type": "stream",
     "text": [
      "string type 123\n"
     ]
    }
   ],
   "source": [
    "print \"string type \" + str(123)"
   ]
  },
  {
   "cell_type": "code",
   "execution_count": 21,
   "metadata": {
    "collapsed": true
   },
   "outputs": [],
   "source": [
    "#global v. local vars\n",
    "\n",
    "def someFunction():\n",
    "    #global f\n",
    "    f = \"def\"\n",
    "    print f\n",
    "#f inside function different from f outside function    "
   ]
  },
  {
   "cell_type": "code",
   "execution_count": 22,
   "metadata": {},
   "outputs": [
    {
     "name": "stdout",
     "output_type": "stream",
     "text": [
      "def\n",
      "abc\n"
     ]
    }
   ],
   "source": [
    "someFunction()\n",
    "print(f)"
   ]
  },
  {
   "cell_type": "code",
   "execution_count": 23,
   "metadata": {
    "collapsed": true
   },
   "outputs": [],
   "source": [
    "def someFunction():\n",
    "    global f\n",
    "    f = \"def\"\n",
    "    print f\n",
    "#f inside function different from f outside function   "
   ]
  },
  {
   "cell_type": "code",
   "execution_count": 24,
   "metadata": {},
   "outputs": [
    {
     "name": "stdout",
     "output_type": "stream",
     "text": [
      "def\n",
      "def\n"
     ]
    }
   ],
   "source": [
    "someFunction()\n",
    "print(f)"
   ]
  },
  {
   "cell_type": "code",
   "execution_count": 27,
   "metadata": {},
   "outputs": [],
   "source": [
    "#del f\n",
    "#print f\n",
    "#f not defined, b/c we deleted it. "
   ]
  },
  {
   "cell_type": "code",
   "execution_count": 28,
   "metadata": {
    "collapsed": true
   },
   "outputs": [],
   "source": [
    "#functions example file.\n",
    "\n",
    "def func1():\n",
    "    print('I am a function')"
   ]
  },
  {
   "cell_type": "code",
   "execution_count": 30,
   "metadata": {},
   "outputs": [
    {
     "name": "stdout",
     "output_type": "stream",
     "text": [
      "I am a function\n",
      "I am a function\n",
      "None\n"
     ]
    }
   ],
   "source": [
    "func1()\n",
    "print(func1())\n",
    "#calls function - no return value, so gives None"
   ]
  },
  {
   "cell_type": "code",
   "execution_count": 31,
   "metadata": {},
   "outputs": [
    {
     "name": "stdout",
     "output_type": "stream",
     "text": [
      "<function func1 at 0x10a9dfaa0>\n"
     ]
    }
   ],
   "source": [
    "print(func1)\n",
    "#functions are themselves objects w/ values - printed value here."
   ]
  },
  {
   "cell_type": "code",
   "execution_count": 35,
   "metadata": {
    "collapsed": true
   },
   "outputs": [],
   "source": [
    "def func2(arg1, arg2):\n",
    "    print(arg1, \"\", arg2)"
   ]
  },
  {
   "cell_type": "code",
   "execution_count": 37,
   "metadata": {},
   "outputs": [
    {
     "name": "stdout",
     "output_type": "stream",
     "text": [
      "(10, '', 20)\n"
     ]
    }
   ],
   "source": [
    "func2(10,20)"
   ]
  },
  {
   "cell_type": "code",
   "execution_count": 38,
   "metadata": {},
   "outputs": [
    {
     "name": "stdout",
     "output_type": "stream",
     "text": [
      "(10, '', 20)\n",
      "None\n"
     ]
    }
   ],
   "source": [
    "print(func2(10,20))"
   ]
  },
  {
   "cell_type": "code",
   "execution_count": 39,
   "metadata": {
    "collapsed": true
   },
   "outputs": [],
   "source": [
    "def cube(x):\n",
    "    return x*x*x"
   ]
  },
  {
   "cell_type": "code",
   "execution_count": 40,
   "metadata": {},
   "outputs": [
    {
     "name": "stdout",
     "output_type": "stream",
     "text": [
      "27\n"
     ]
    }
   ],
   "source": [
    "print(cube(3))"
   ]
  },
  {
   "cell_type": "code",
   "execution_count": 41,
   "metadata": {},
   "outputs": [
    {
     "name": "stdout",
     "output_type": "stream",
     "text": [
      "1000000\n"
     ]
    }
   ],
   "source": [
    "print(cube(100))"
   ]
  },
  {
   "cell_type": "code",
   "execution_count": 42,
   "metadata": {},
   "outputs": [
    {
     "name": "stdout",
     "output_type": "stream",
     "text": [
      "1948316276263493831789130871865003\n"
     ]
    }
   ],
   "source": [
    "print(cube(124897329587))"
   ]
  },
  {
   "cell_type": "code",
   "execution_count": 43,
   "metadata": {
    "collapsed": true
   },
   "outputs": [],
   "source": [
    "def power(num, x=1):\n",
    "    result = 1;\n",
    "    for i in range(x):\n",
    "        result = result * num\n",
    "    return result\n",
    "#Raises a number to the given power, like num^x\n",
    "#x defaults to 1, so gives single power if no argument for x"
   ]
  },
  {
   "cell_type": "code",
   "execution_count": 44,
   "metadata": {},
   "outputs": [
    {
     "name": "stdout",
     "output_type": "stream",
     "text": [
      "2\n"
     ]
    }
   ],
   "source": [
    "print(power(2))"
   ]
  },
  {
   "cell_type": "code",
   "execution_count": 45,
   "metadata": {},
   "outputs": [
    {
     "name": "stdout",
     "output_type": "stream",
     "text": [
      "8\n"
     ]
    }
   ],
   "source": [
    "print(power(2,3))"
   ]
  },
  {
   "cell_type": "code",
   "execution_count": 46,
   "metadata": {},
   "outputs": [
    {
     "name": "stdout",
     "output_type": "stream",
     "text": [
      "27\n"
     ]
    }
   ],
   "source": [
    "print(power(x=3, num=3))"
   ]
  },
  {
   "cell_type": "code",
   "execution_count": 47,
   "metadata": {},
   "outputs": [
    {
     "name": "stdout",
     "output_type": "stream",
     "text": [
      "1048576\n"
     ]
    }
   ],
   "source": [
    "print(power(x=10, num=4))\n",
    "#can reverse the order if you call them by their names\n",
    "#if no names, must call in correct order"
   ]
  },
  {
   "cell_type": "code",
   "execution_count": 48,
   "metadata": {
    "collapsed": true
   },
   "outputs": [],
   "source": [
    "def multi_add(*args):\n",
    "    result = 0\n",
    "    for x in args:\n",
    "        result = result + x\n",
    "    return result\n",
    "\n",
    "#(* args) means can pass in however many args I want\n",
    "#loop over the list of arguments\n",
    "# for each one, add the value to overall result\n",
    "#return total result"
   ]
  },
  {
   "cell_type": "code",
   "execution_count": 49,
   "metadata": {},
   "outputs": [
    {
     "name": "stdout",
     "output_type": "stream",
     "text": [
      "23\n"
     ]
    }
   ],
   "source": [
    "print(multi_add(4, 5, 10, 4))"
   ]
  },
  {
   "cell_type": "code",
   "execution_count": 51,
   "metadata": {},
   "outputs": [
    {
     "name": "stdout",
     "output_type": "stream",
     "text": [
      "33\n"
     ]
    }
   ],
   "source": [
    "print(multi_add(4, 5, 10, 4, 10))"
   ]
  },
  {
   "cell_type": "code",
   "execution_count": 53,
   "metadata": {},
   "outputs": [
    {
     "name": "stdout",
     "output_type": "stream",
     "text": [
      "x is less than y\n"
     ]
    }
   ],
   "source": [
    "#Conditional statements. if, elif, else\n",
    "def main():\n",
    "    x, y = 10, 100\n",
    "    if(x < y):\n",
    "        st= \"x is less than y\"\n",
    "    print(st)\n",
    "        \n",
    "        \n",
    "if __name__ == \"__main__\":\n",
    "    main()"
   ]
  },
  {
   "cell_type": "code",
   "execution_count": 55,
   "metadata": {},
   "outputs": [
    {
     "name": "stdout",
     "output_type": "stream",
     "text": [
      "x is greater than y\n"
     ]
    }
   ],
   "source": [
    "def main():\n",
    "    x, y = 1000, 100\n",
    "    if(x < y):\n",
    "        st= \"x is less than y\"\n",
    "    else:\n",
    "        st = \"x is greater than y\"\n",
    "    print(st)\n",
    "\n",
    "        \n",
    "        \n",
    "if __name__ == \"__main__\":\n",
    "    main()"
   ]
  },
  {
   "cell_type": "code",
   "execution_count": 57,
   "metadata": {},
   "outputs": [
    {
     "name": "stdout",
     "output_type": "stream",
     "text": [
      "x is same as y\n"
     ]
    }
   ],
   "source": [
    "def main():\n",
    "    x, y = 100, 100\n",
    "    if(x < y):\n",
    "        st= \"x is less than y\"\n",
    "    elif (x==y):\n",
    "        st = \"x is same as y\"\n",
    "    else:\n",
    "        st = \"x is greater than y\"\n",
    "    print(st)\n",
    "\n",
    "if __name__ == \"__main__\":\n",
    "    main()\n",
    "    \n",
    "#if, elif, else"
   ]
  },
  {
   "cell_type": "code",
   "execution_count": 62,
   "metadata": {},
   "outputs": [
    {
     "name": "stdout",
     "output_type": "stream",
     "text": [
      "x is greater than or equal to y\n"
     ]
    }
   ],
   "source": [
    "def main():\n",
    "    x, y = 100, 100\n",
    "\n",
    "#Conditional statements let you use \"a if C else B\"    \n",
    "    st = \"x is less than y\" if (x < y) else \"x is greater than or equal to y\"\n",
    "    print(st)\n",
    "#one line lets us condense code into one statement\n",
    "\n",
    "if __name__ == \"__main__\":\n",
    "    main()"
   ]
  },
  {
   "cell_type": "code",
   "execution_count": 63,
   "metadata": {},
   "outputs": [
    {
     "name": "stdout",
     "output_type": "stream",
     "text": [
      "x is less than y\n"
     ]
    }
   ],
   "source": [
    "def main():\n",
    "    x, y = 10, 100\n",
    "\n",
    "#Conditional statements let you use \"a if C else B\"    \n",
    "    st = \"x is less than y\" if (x < y) else \"x is greater than or equal to y\"\n",
    "    print(st)\n",
    "#one line lets us condense code into one statement\n",
    "\n",
    "if __name__ == \"__main__\":\n",
    "    main()"
   ]
  },
  {
   "cell_type": "code",
   "execution_count": 64,
   "metadata": {},
   "outputs": [
    {
     "name": "stdout",
     "output_type": "stream",
     "text": [
      "0\n",
      "1\n",
      "2\n",
      "3\n",
      "4\n"
     ]
    }
   ],
   "source": [
    "def main():\n",
    "    x = 0\n",
    "    #define a while loop\n",
    "    while (x < 5):\n",
    "        print x\n",
    "        x = x + 1\n",
    "    \n",
    "if __name__ == \"__main__\":\n",
    "    main()\n",
    "\n",
    "#while loop executes as long as the condition is true, then stops "
   ]
  },
  {
   "cell_type": "code",
   "execution_count": 65,
   "metadata": {},
   "outputs": [
    {
     "name": "stdout",
     "output_type": "stream",
     "text": [
      "5\n",
      "6\n",
      "7\n",
      "8\n",
      "9\n"
     ]
    }
   ],
   "source": [
    "def main():\n",
    "    x = 0\n",
    "    #define a for loop\n",
    "    for x in range(5,10):\n",
    "        print x\n",
    "    \n",
    "if __name__ == \"__main__\":\n",
    "    main()\n",
    "    \n",
    "#iterator - give range with 5, 10\n",
    "#from values 5 to 10 (not inclusive), print values"
   ]
  },
  {
   "cell_type": "code",
   "execution_count": 66,
   "metadata": {},
   "outputs": [
    {
     "name": "stdout",
     "output_type": "stream",
     "text": [
      "Mon\n",
      "Tue\n",
      "Wed\n",
      "Thu\n",
      "Fri\n",
      "Sat\n",
      "Sun\n"
     ]
    }
   ],
   "source": [
    "def main():\n",
    "    x = 0\n",
    "    days = [\"Mon\", \"Tue\", \"Wed\", \"Thu\", \"Fri\", \"Sat\", \"Sun\"]\n",
    "    for d in days:\n",
    "        print(d)\n",
    "    \n",
    "if __name__ == \"__main__\":\n",
    "    main()\n",
    "#loops over the contents of a list "
   ]
  },
  {
   "cell_type": "code",
   "execution_count": 68,
   "metadata": {},
   "outputs": [
    {
     "name": "stdout",
     "output_type": "stream",
     "text": [
      "5\n",
      "6\n"
     ]
    }
   ],
   "source": [
    "def main():\n",
    "    x = 0\n",
    "    for x in range(5,10):\n",
    "        if (x==7): break\n",
    "            #breaks execution of loop if a condition is met\n",
    "            #will cause it to terminate. stops at 6\n",
    "        #if (x % 2 == 0): continue\n",
    "        print(x)\n",
    "    \n",
    "if __name__ == \"__main__\":\n",
    "    main()"
   ]
  },
  {
   "cell_type": "code",
   "execution_count": 69,
   "metadata": {},
   "outputs": [
    {
     "name": "stdout",
     "output_type": "stream",
     "text": [
      "5\n",
      "7\n",
      "9\n"
     ]
    }
   ],
   "source": [
    "def main():\n",
    "    x = 0\n",
    "    for x in range(5,10):\n",
    "        #if (x==7): break\n",
    "        if (x % 2 == 0): continue\n",
    "        #skips the rest of the loop, go back to the start of the loop\n",
    "        #don't print the even numbers\n",
    "        #6 and 8 are skipped here.\n",
    "        print(x)\n",
    "    \n",
    "if __name__ == \"__main__\":\n",
    "    main()"
   ]
  },
  {
   "cell_type": "code",
   "execution_count": 70,
   "metadata": {},
   "outputs": [
    {
     "name": "stdout",
     "output_type": "stream",
     "text": [
      "(0, 'Mon')\n",
      "(1, 'Tue')\n",
      "(2, 'Wed')\n",
      "(3, 'Thu')\n",
      "(4, 'Fri')\n",
      "(5, 'Sat')\n",
      "(6, 'Sun')\n"
     ]
    }
   ],
   "source": [
    "def main():\n",
    "    x = 0\n",
    "    days = [\"Mon\", \"Tue\", \"Wed\", \"Thu\", \"Fri\", \"Sat\", \"Sun\"]\n",
    "    for i, d in enumerate(days):\n",
    "        print(i, d)\n",
    "    \n",
    "if __name__ == \"__main__\":\n",
    "    main()\n",
    "\n",
    "#normally for doesn't use index variable. But you can get one with i\n",
    "#same days collection. Enumerate = iterate over collection, return both\n",
    "#the value of item being looked at, and index of item in question"
   ]
  },
  {
   "cell_type": "code",
   "execution_count": 73,
   "metadata": {},
   "outputs": [
    {
     "name": "stdout",
     "output_type": "stream",
     "text": [
      "myClass method1\n",
      "myClass method2 : This is a string\n"
     ]
    }
   ],
   "source": [
    "#Classes in python to pass around as module\n",
    "\n",
    "class myClass(): #classes given a name. if depends on something, put in (parens)\n",
    "    def method1(self):\n",
    "        print(\"myClass method1\")\n",
    "        #can define functions/methods as part of this class\n",
    "        #first argument should be self argument\n",
    "        #refers to object itself\n",
    "        #self = particular instance of this object being operated on\n",
    "    def method2(self, someString):\n",
    "        print(\"myClass method2: \" + someString )\n",
    "  \n",
    "def main():\n",
    "    c = myClass()\n",
    "    c.method1()\n",
    "    c.method2(\"This is a string\")\n",
    "    #instantiates this class\n",
    "    #now can call methods on the class\n",
    "    \n",
    "if __name__ == \"__main__\":\n",
    "    main()"
   ]
  },
  {
   "cell_type": "code",
   "execution_count": 78,
   "metadata": {},
   "outputs": [
    {
     "name": "stdout",
     "output_type": "stream",
     "text": [
      "myClass method1\n",
      "myClass method2 : This is a string\n",
      "myClass method1\n",
      "anotherClass method1\n",
      "anotherClass method2\n"
     ]
    }
   ],
   "source": [
    "class anotherClass(myClass): #anotherClass based on myClass - inherits from it\n",
    "    def method2(self): #overwrites methods from myClass\n",
    "        print('anotherClass method2')#someSTring from myClass wont' be called\n",
    "       \n",
    "    def method1(self):\n",
    "        myClass.method1(self); #calling from parent class\n",
    "        print('anotherClass method1')\n",
    "\n",
    "def main():\n",
    "    c = myClass()\n",
    "    c.method1()\n",
    "    c.method2(\"This is a string\")\n",
    "    #instantiates this class\n",
    "    #now can call methods on the class\n",
    "    c2 = anotherClass()\n",
    "    c2.method1()\n",
    "    c2.method2()\n",
    "    \n",
    "if __name__ == \"__main__\":\n",
    "    main()"
   ]
  },
  {
   "cell_type": "code",
   "execution_count": 79,
   "metadata": {
    "collapsed": true
   },
   "outputs": [],
   "source": [
    "#now, datetime.\n",
    "\n",
    "from datetime import date\n",
    "from datetime import time\n",
    "from datetime import datetime\n",
    "#these are predefined classes from python library"
   ]
  },
  {
   "cell_type": "code",
   "execution_count": 80,
   "metadata": {},
   "outputs": [
    {
     "name": "stdout",
     "output_type": "stream",
     "text": [
      "(\"Today's day is \", datetime.date(2018, 1, 25))\n"
     ]
    }
   ],
   "source": [
    "def main():\n",
    "    today = date.today()\n",
    "    print(\"Today's date is \", today)\n",
    "    \n",
    "if __name__ == \"__main__\":\n",
    "    main()"
   ]
  },
  {
   "cell_type": "code",
   "execution_count": 82,
   "metadata": {},
   "outputs": [
    {
     "name": "stdout",
     "output_type": "stream",
     "text": [
      "(\"Today's date is \", datetime.date(2018, 1, 25))\n",
      "('Date components :', 25, 1, 2018)\n"
     ]
    }
   ],
   "source": [
    "def main():\n",
    "    today = date.today()\n",
    "    print(\"Today's date is \", today)\n",
    "    print(\"Date components :\", today.day, today.month, today.year)\n",
    "    \n",
    "if __name__ == \"__main__\":\n",
    "    main()"
   ]
  },
  {
   "cell_type": "code",
   "execution_count": 83,
   "metadata": {},
   "outputs": [
    {
     "name": "stdout",
     "output_type": "stream",
     "text": [
      "(\"Today's date is \", datetime.date(2018, 1, 25))\n",
      "('Date components :', 25, 1, 2018)\n",
      "(\"Today's Weekday #: \", 3)\n"
     ]
    }
   ],
   "source": [
    "def main():\n",
    "    today = date.today()\n",
    "    print(\"Today's date is \", today)\n",
    "    print(\"Date components :\", today.day, today.month, today.year)\n",
    "    print(\"Today's Weekday #: \", today.weekday())\n",
    "    #weekday number: 0 mon, 6 sunday. could use to index day names\n",
    "if __name__ == \"__main__\":\n",
    "    main()"
   ]
  },
  {
   "cell_type": "code",
   "execution_count": 85,
   "metadata": {},
   "outputs": [
    {
     "name": "stdout",
     "output_type": "stream",
     "text": [
      "('The current date and time is ', datetime.datetime(2018, 1, 25, 11, 56, 20, 718892))\n",
      "The current date and time is  2018-01-25 11:56:20.718892\n"
     ]
    }
   ],
   "source": [
    "def main():\n",
    "    today = datetime.now()\n",
    "    print(\"The current date and time is \", today)\n",
    "    print \"The current date and time is \", today\n",
    "if __name__ == \"__main__\":\n",
    "    main()"
   ]
  },
  {
   "cell_type": "code",
   "execution_count": 86,
   "metadata": {},
   "outputs": [
    {
     "name": "stdout",
     "output_type": "stream",
     "text": [
      "the current time is  11:57:03.681058\n"
     ]
    }
   ],
   "source": [
    "t = datetime.time(datetime.now())\n",
    "print \"The current time is \", t"
   ]
  },
  {
   "cell_type": "code",
   "execution_count": 88,
   "metadata": {},
   "outputs": [
    {
     "name": "stdout",
     "output_type": "stream",
     "text": [
      "Today is day number 3\n",
      "Which is a Thu\n"
     ]
    }
   ],
   "source": [
    "today = datetime.now()\n",
    "wd = date.weekday(today)\n",
    "days = [\"Mon\", \"Tue\", \"Wed\", \"Thu\", \"Fri\", \"Sat\", \"Sun\"]\n",
    "print \"Today is day number %d\" % wd\n",
    "print \"Which is a \" + days[wd]"
   ]
  },
  {
   "cell_type": "code",
   "execution_count": 91,
   "metadata": {},
   "outputs": [
    {
     "name": "stdout",
     "output_type": "stream",
     "text": [
      "2018\n",
      "18\n"
     ]
    }
   ],
   "source": [
    "now = datetime.now()\n",
    "\n",
    "#Formatting options:\n",
    "#%y/%Y - year, %a/%A - weekday, %b/%B - month, %d/%D - day of month\n",
    "\n",
    "print now.strftime(\"%Y\") #Full year with century\n",
    "print now.strftime(\"%y\") #no century"
   ]
  },
  {
   "cell_type": "code",
   "execution_count": 93,
   "metadata": {},
   "outputs": [
    {
     "name": "stdout",
     "output_type": "stream",
     "text": [
      "Thu, 25 January, 18\n",
      "Thursday, 01/25/18 January, 2018\n"
     ]
    }
   ],
   "source": [
    "print now.strftime(\"%a, %d %B, %y\") #abbrev day, num, full month, abbrev yr\n",
    "print now.strftime(\"%A, %D %B, %Y\") #abbrev day, num, full month, abbrev yr"
   ]
  },
  {
   "cell_type": "code",
   "execution_count": 94,
   "metadata": {},
   "outputs": [
    {
     "name": "stdout",
     "output_type": "stream",
     "text": [
      "Thu Jan 25 12:03:49 2018\n",
      "01/25/18\n",
      "12:03:49\n"
     ]
    }
   ],
   "source": [
    "# %c - locale's date and time\n",
    "print now. strftime(\"%c\")\n",
    "print now. strftime(\"%x\")\n",
    "print now. strftime(\"%X\")"
   ]
  },
  {
   "cell_type": "code",
   "execution_count": 96,
   "metadata": {},
   "outputs": [
    {
     "name": "stdout",
     "output_type": "stream",
     "text": [
      "365 days, 5:01:00\n"
     ]
    }
   ],
   "source": [
    "#Time delta!! = span of time. math w/ times\n",
    "from datetime import timedelta\n",
    "print timedelta(days=365, hours=5, minutes=1)\n",
    "#amount of time you want delta to represent: 1y, 5h, 1m"
   ]
  },
  {
   "cell_type": "code",
   "execution_count": 97,
   "metadata": {},
   "outputs": [
    {
     "name": "stdout",
     "output_type": "stream",
     "text": [
      "today is: 2018-01-25 12:09:51.310299\n",
      "one year from now it will be: 2019-01-25 12:09:51.311266\n"
     ]
    }
   ],
   "source": [
    "print \"today is: \" + str(datetime.now())\n",
    "print \"one year from now it will be: \" + str(datetime.now() + timedelta(days=365))"
   ]
  },
  {
   "cell_type": "code",
   "execution_count": 98,
   "metadata": {},
   "outputs": [
    {
     "name": "stdout",
     "output_type": "stream",
     "text": [
      "in 2 wks and 3 days it will be: 2018-02-11 12:10:47.332229\n"
     ]
    }
   ],
   "source": [
    "print \"in 2 wks and 3 days it will be: \" + str(datetime.now() + timedelta(weeks=2, days=3))"
   ]
  },
  {
   "cell_type": "code",
   "execution_count": 99,
   "metadata": {},
   "outputs": [
    {
     "name": "stdout",
     "output_type": "stream",
     "text": [
      "1 wk ago it was Thursday January 18, 2018\n"
     ]
    }
   ],
   "source": [
    "#calc date 1 wk ago, calculate as string\n",
    "t = datetime.now() - timedelta(weeks=1)\n",
    "s = t.strftime(\"%A %B %d, %Y\")\n",
    "print \"1 wk ago it was \" + s"
   ]
  },
  {
   "cell_type": "code",
   "execution_count": 101,
   "metadata": {},
   "outputs": [
    {
     "name": "stdout",
     "output_type": "stream",
     "text": [
      "66 days until next april fool's day\n"
     ]
    }
   ],
   "source": [
    "today = date.today()\n",
    "afd = date(today.year, 4, 1) #get april fool's for this calendar year\n",
    "#use date comparison to see if april fool's has passed yet this year\n",
    "time_to_afd = abs(afd - today)\n",
    "if afd < today:\n",
    "    print \"April fool's day already went by %d days ago\" % ((today-afd).days)\n",
    "    afd = afd.replace(year=today.year + 1)#then get April fools' for next yr\n",
    "else:\n",
    "    print time_to_afd.days, \"days until next april fool's day\""
   ]
  },
  {
   "cell_type": "code",
   "execution_count": null,
   "metadata": {
    "collapsed": true
   },
   "outputs": [],
   "source": []
  },
  {
   "cell_type": "code",
   "execution_count": null,
   "metadata": {
    "collapsed": true
   },
   "outputs": [],
   "source": []
  },
  {
   "cell_type": "code",
   "execution_count": null,
   "metadata": {
    "collapsed": true
   },
   "outputs": [],
   "source": []
  },
  {
   "cell_type": "code",
   "execution_count": null,
   "metadata": {
    "collapsed": true
   },
   "outputs": [],
   "source": []
  },
  {
   "cell_type": "code",
   "execution_count": null,
   "metadata": {
    "collapsed": true
   },
   "outputs": [],
   "source": []
  },
  {
   "cell_type": "code",
   "execution_count": null,
   "metadata": {
    "collapsed": true
   },
   "outputs": [],
   "source": []
  }
 ],
 "metadata": {
  "kernelspec": {
   "display_name": "Python 2",
   "language": "python",
   "name": "python2"
  },
  "language_info": {
   "codemirror_mode": {
    "name": "ipython",
    "version": 2
   },
   "file_extension": ".py",
   "mimetype": "text/x-python",
   "name": "python",
   "nbconvert_exporter": "python",
   "pygments_lexer": "ipython2",
   "version": "2.7.13"
  }
 },
 "nbformat": 4,
 "nbformat_minor": 2
}
