{
 "cells": [
  {
   "cell_type": "code",
   "execution_count": 1,
   "metadata": {},
   "outputs": [
    {
     "name": "stdout",
     "output_type": "stream",
     "text": [
      "Hello World\n"
     ]
    },
    {
     "data": {
      "text/plain": [
       "'\\nMultiline comment\\n'"
      ]
     },
     "execution_count": 1,
     "metadata": {},
     "output_type": "execute_result"
    }
   ],
   "source": [
    "import random\n",
    "import sys\n",
    "import os\n",
    "\n",
    "print('Hello World')\n",
    "#comment\n",
    "'''\n",
    "Multiline comment\n",
    "'''"
   ]
  },
  {
   "cell_type": "code",
   "execution_count": 3,
   "metadata": {},
   "outputs": [
    {
     "name": "stdout",
     "output_type": "stream",
     "text": [
      "Derek\n",
      "\"Always remember youre are unique  \n",
      "just\n",
      "Like everyone else \n"
     ]
    }
   ],
   "source": [
    "name = 'Derek'\n",
    "print(name)\n",
    "#Numbers, Strings, Lists, Tuples, Dictionaries = 5 types in python\n",
    "#7 arithmetic operators: + - * / %(remainder) ** (exponential) //(discard remainder)\n",
    "quote = \"\\\"Always remember youre are unique\"\n",
    "multi_line_quote = '''  \n",
    "just\n",
    "Like everyone else '''\n",
    "new_string = quote +multi_line_quote\n",
    "print(new_string)"
   ]
  },
  {
   "cell_type": "code",
   "execution_count": 4,
   "metadata": {},
   "outputs": [
    {
     "name": "stdout",
     "output_type": "stream",
     "text": [
      "\n",
      " +5\n"
     ]
    },
    {
     "data": {
      "text/plain": [
       "'\\nLists\\nIndex 0, index 1, etc.\\n'"
      ]
     },
     "execution_count": 4,
     "metadata": {},
     "output_type": "execute_result"
    }
   ],
   "source": [
    "\n",
    "#print('%s %s %s' % 'Like the quote', quote, multi_line_quote)\n",
    "print('\\n +5') #gives 5 new line breaks\n",
    "'''\n",
    "Lists\n",
    "Index 0, index 1, etc.\n",
    "'''"
   ]
  },
  {
   "cell_type": "code",
   "execution_count": 7,
   "metadata": {},
   "outputs": [
    {
     "name": "stdout",
     "output_type": "stream",
     "text": [
      "('first item', 'juice')\n"
     ]
    }
   ],
   "source": [
    "grocery_list = ['juice', 'potatos', 'milk', 'corn']\n",
    "print('first item', grocery_list[0])\n",
    "#juice"
   ]
  },
  {
   "cell_type": "code",
   "execution_count": 9,
   "metadata": {},
   "outputs": [
    {
     "name": "stdout",
     "output_type": "stream",
     "text": [
      "['potatos', 'milk']\n"
     ]
    }
   ],
   "source": [
    "grocery_list[0] = 'green juice' #replaces juice w/ green juice\n",
    "print(grocery_list[1:3])\n",
    "#Does potatos thru milk"
   ]
  },
  {
   "cell_type": "code",
   "execution_count": 10,
   "metadata": {},
   "outputs": [
    {
     "name": "stdout",
     "output_type": "stream",
     "text": [
      "potatos\n"
     ]
    }
   ],
   "source": [
    "other_events = ['wash car', 'pick up kids', 'cash check']\n",
    "to_do_list = [other_events, grocery_list]\n",
    "#list within a list\n",
    "print((to_do_list[1][1]))"
   ]
  },
  {
   "cell_type": "code",
   "execution_count": 11,
   "metadata": {
    "collapsed": true
   },
   "outputs": [],
   "source": [
    "grocery_list.append\n",
    "\n",
    "grocery_list.insert(1, 'pickle')\n",
    "grocery_list.remove('pickle')\n",
    "grocery_list.sort()\n",
    "grocery_list.reverse()"
   ]
  },
  {
   "cell_type": "code",
   "execution_count": 12,
   "metadata": {},
   "outputs": [
    {
     "name": "stdout",
     "output_type": "stream",
     "text": [
      "7\n",
      "wash car\n",
      "cash check\n"
     ]
    }
   ],
   "source": [
    "to_do_list2 = other_events + grocery_list\n",
    "print(len(to_do_list2))\n",
    "print(max(to_do_list2))\n",
    "print(min(to_do_list2))"
   ]
  },
  {
   "cell_type": "code",
   "execution_count": 14,
   "metadata": {},
   "outputs": [
    {
     "data": {
      "text/plain": [
       "9"
      ]
     },
     "execution_count": 14,
     "metadata": {},
     "output_type": "execute_result"
    }
   ],
   "source": [
    "#TUPLES - cant' change after it's created\n",
    "\n",
    "pi_tuple = (3, 1, 4, 5, 9)\n",
    "new_tuple = list(pi_tuple)\n",
    "new_tuple = tuple(new_tuple)\n",
    "\n",
    "len(new_tuple)\n",
    "min(pi_tuple)\n",
    "max(pi_tuple)"
   ]
  },
  {
   "cell_type": "code",
   "execution_count": 15,
   "metadata": {},
   "outputs": [
    {
     "name": "stdout",
     "output_type": "stream",
     "text": [
      "Leonard Snart\n",
      "['fiddler', 'Captain Cold']\n",
      "['Isaac Bowin', 'Leonard Snart']\n"
     ]
    }
   ],
   "source": [
    "super_villians = {'fiddler': 'Isaac Bowin', \n",
    "                            'Captain Cold' : 'Leonard Snart'}\n",
    "print(super_villians['Captain Cold'])\n",
    "\n",
    "print(super_villians.keys())\n",
    "print(super_villians.values())"
   ]
  },
  {
   "cell_type": "code",
   "execution_count": 16,
   "metadata": {},
   "outputs": [
    {
     "name": "stdout",
     "output_type": "stream",
     "text": [
      "you are old enough to drink\n"
     ]
    }
   ],
   "source": [
    "age = 30\n",
    "if age > 21:\n",
    "    print('you are old enough to drink')\n",
    "elif age>=16 :\n",
    "    print('you are old enough to drive')\n",
    "else :\n",
    "    print('you are not old enough')"
   ]
  },
  {
   "cell_type": "code",
   "execution_count": 17,
   "metadata": {},
   "outputs": [
    {
     "name": "stdout",
     "output_type": "stream",
     "text": [
      "you get a birthday party yay\n"
     ]
    }
   ],
   "source": [
    "if ((age >=1) and (age<=18)):\n",
    "    print ('you get a birthday')\n",
    "elif (age==21) or (age>=65):\n",
    "    print('you get a birthday')\n",
    "elif not (age==30):  \n",
    "    print(\"you don't get a birthday\")\n",
    "else:\n",
    "    print(\"you get a birthday party yay\")"
   ]
  },
  {
   "cell_type": "code",
   "execution_count": 19,
   "metadata": {},
   "outputs": [
    {
     "name": "stdout",
     "output_type": "stream",
     "text": [
      "juice\n",
      "tomato\n",
      "potato\n",
      "banana\n"
     ]
    }
   ],
   "source": [
    "#once one condition is met, no longer check any more\n",
    "'''\n",
    "for x in range(0,10):\n",
    "    print(x, ' ', end=\" \")\n",
    "        print(x, ' ', end=\" \")\n",
    "                     ^\n",
    "SyntaxError: invalid syntax\n",
    "'''\n",
    "grocery_list = ['juice', 'tomato', 'potato', 'banana']\n",
    "for y in grocery_list:\n",
    "    print(y)"
   ]
  },
  {
   "cell_type": "code",
   "execution_count": 20,
   "metadata": {},
   "outputs": [
    {
     "name": "stdout",
     "output_type": "stream",
     "text": [
      "2\n",
      "4\n",
      "6\n",
      "8\n",
      "10\n"
     ]
    }
   ],
   "source": [
    "for x in [2,4,6,8,10]:\n",
    "    print(x)"
   ]
  },
  {
   "cell_type": "code",
   "execution_count": 21,
   "metadata": {},
   "outputs": [
    {
     "name": "stdout",
     "output_type": "stream",
     "text": [
      "([1, 2, 3], [0])\n",
      "([1, 2, 3], [1])\n",
      "([1, 2, 3], [2])\n",
      "([10, 20, 30], [0])\n",
      "([10, 20, 30], [1])\n",
      "([10, 20, 30], [2])\n",
      "([100, 200, 300], [0])\n",
      "([100, 200, 300], [1])\n",
      "([100, 200, 300], [2])\n"
     ]
    }
   ],
   "source": [
    "num_list = [[1,2,3], [10,20,30], [100,200,300]]\n",
    "for x in range(0, 3):\n",
    "    for y in range(0,3):\n",
    "        print(num_list[x], [y])"
   ]
  },
  {
   "cell_type": "code",
   "execution_count": 22,
   "metadata": {
    "collapsed": true
   },
   "outputs": [],
   "source": [
    "random_num= random.randrange(0,100)"
   ]
  },
  {
   "cell_type": "code",
   "execution_count": null,
   "metadata": {},
   "outputs": [],
   "source": [
    "while(random_num !=15):\n",
    "    print(random_num)\n",
    "    #kept getting 86 repeatedly..."
   ]
  },
  {
   "cell_type": "code",
   "execution_count": 24,
   "metadata": {},
   "outputs": [
    {
     "name": "stdout",
     "output_type": "stream",
     "text": [
      " 0\n",
      "2\n",
      "4\n",
      "6\n",
      "8\n"
     ]
    }
   ],
   "source": [
    "i = 0;\n",
    "\n",
    "while(i <= 20):\n",
    "    if(i%2 ==0):\n",
    "        print(i)\n",
    "    elif(i==9):\n",
    "        break\n",
    "    else:\n",
    "        i += 1 #same as i=i+1\n",
    "        continue \n",
    "    i +=1"
   ]
  },
  {
   "cell_type": "code",
   "execution_count": 26,
   "metadata": {},
   "outputs": [
    {
     "name": "stdout",
     "output_type": "stream",
     "text": [
      "5\n"
     ]
    }
   ],
   "source": [
    "def addNumber(fNum, lNum):\n",
    "    sumNum = fNum + lNum\n",
    "    return sumNum\n",
    "'''\n",
    "define a function that adds 2 nums together based on\n",
    "inputs fNum, lNum\n",
    "'''\n",
    "print(addNumber(1,4))"
   ]
  },
  {
   "cell_type": "code",
   "execution_count": 27,
   "metadata": {
    "collapsed": true
   },
   "outputs": [],
   "source": [
    "string = addNumber(1,4)\n",
    "#print(sumNum): this will return an error\n",
    "# b/c sumnum is only definied within the function\n",
    "# has to stay within it"
   ]
  },
  {
   "cell_type": "code",
   "execution_count": 29,
   "metadata": {},
   "outputs": [
    {
     "name": "stdout",
     "output_type": "stream",
     "text": [
      "what is your name?\n",
      "('Hello', '')\n"
     ]
    }
   ],
   "source": [
    "print('what is your name?')\n",
    "name=sys.stdin.readline()\n",
    "print('Hello', name)\n",
    "#this seems like it would only work in a .py not .ipynb"
   ]
  },
  {
   "cell_type": "code",
   "execution_count": 30,
   "metadata": {},
   "outputs": [
    {
     "name": "stdout",
     "output_type": "stream",
     "text": [
      "I'll\n"
     ]
    }
   ],
   "source": [
    "long_string= \"I'll catch you if you fall - The Floor\"\n",
    "print(long_string[0:4])"
   ]
  },
  {
   "cell_type": "code",
   "execution_count": 31,
   "metadata": {},
   "outputs": [
    {
     "name": "stdout",
     "output_type": "stream",
     "text": [
      "Floor\n"
     ]
    }
   ],
   "source": [
    "print(long_string[-5:])"
   ]
  },
  {
   "cell_type": "code",
   "execution_count": 32,
   "metadata": {},
   "outputs": [
    {
     "name": "stdout",
     "output_type": "stream",
     "text": [
      "I'll catch you if you fall - The \n"
     ]
    }
   ],
   "source": [
    "print(long_string[:-5])"
   ]
  },
  {
   "cell_type": "code",
   "execution_count": 34,
   "metadata": {},
   "outputs": [
    {
     "name": "stdout",
     "output_type": "stream",
     "text": [
      "I'll be there\n"
     ]
    }
   ],
   "source": [
    "print(long_string[:4] + ' be there')"
   ]
  },
  {
   "cell_type": "code",
   "execution_count": 36,
   "metadata": {},
   "outputs": [
    {
     "name": "stdout",
     "output_type": "stream",
     "text": [
      "X is my favorite, letter and my number 1 number is 0.14000\n"
     ]
    }
   ],
   "source": [
    "print(\"%c is my %s letter and my number %d number is %.5f\" %\n",
    "      ('X', 'favorite,', 1, .14))"
   ]
  },
  {
   "cell_type": "code",
   "execution_count": 38,
   "metadata": {},
   "outputs": [
    {
     "name": "stdout",
     "output_type": "stream",
     "text": [
      "I'll catch you if you fall - the floor\n"
     ]
    }
   ],
   "source": [
    "print(long_string.capitalize())"
   ]
  },
  {
   "cell_type": "code",
   "execution_count": 39,
   "metadata": {},
   "outputs": [
    {
     "name": "stdout",
     "output_type": "stream",
     "text": [
      "-1\n"
     ]
    }
   ],
   "source": [
    "print(long_string.find('floor'))"
   ]
  },
  {
   "cell_type": "code",
   "execution_count": 40,
   "metadata": {},
   "outputs": [
    {
     "name": "stdout",
     "output_type": "stream",
     "text": [
      "False\n"
     ]
    }
   ],
   "source": [
    "print(long_string.isalpha())"
   ]
  },
  {
   "cell_type": "code",
   "execution_count": 41,
   "metadata": {},
   "outputs": [
    {
     "name": "stdout",
     "output_type": "stream",
     "text": [
      "38\n"
     ]
    }
   ],
   "source": [
    "print(len(long_string))"
   ]
  },
  {
   "cell_type": "code",
   "execution_count": 42,
   "metadata": {},
   "outputs": [
    {
     "name": "stdout",
     "output_type": "stream",
     "text": [
      "I'll catch you if you fall - The Ground\n"
     ]
    }
   ],
   "source": [
    "print(long_string.replace(\"Floor\", \"Ground\"))"
   ]
  },
  {
   "cell_type": "code",
   "execution_count": 43,
   "metadata": {},
   "outputs": [
    {
     "name": "stdout",
     "output_type": "stream",
     "text": [
      "I'll catch you if you fall - The Floor\n"
     ]
    }
   ],
   "source": [
    "print(long_string.strip())"
   ]
  },
  {
   "cell_type": "code",
   "execution_count": 45,
   "metadata": {},
   "outputs": [
    {
     "name": "stdout",
     "output_type": "stream",
     "text": [
      "[\"I'll\", 'catch', 'you', 'if', 'you', 'fall', '-', 'The', 'Floor']\n"
     ]
    }
   ],
   "source": [
    "quote_list = long_string.split(\" \")\n",
    "print(quote_list)"
   ]
  },
  {
   "cell_type": "code",
   "execution_count": 48,
   "metadata": {},
   "outputs": [],
   "source": [
    "#Objects: have attributes like color, height, weight\n",
    "#we define attributes of classes\n",
    "\n",
    "class Animal:\n",
    "    __name = None\n",
    "    __height = 0\n",
    "    __weight = 0\n",
    "    __sound = 0\n",
    "    \n",
    "    def __init__(self, name, height, weight, sound):\n",
    "        self.__name = name\n",
    "        self.__height = height\n",
    "        self.__weight = weight\n",
    "        self.__sound = sound\n",
    "    \n",
    "#need to use function inside class to change them\n",
    "\n",
    "    def set_name(self, name):\n",
    "        self.__name = name\n",
    "        \n",
    "    def get_name(self):\n",
    "        return self.__name\n",
    "    \n",
    "    def set_height(self, height):\n",
    "        self.__height = height\n",
    "        \n",
    "    def get_height(self):\n",
    "        return self.__height\n",
    "    \n",
    "    def set_weight(self, weight):\n",
    "        self.__weight = weight\n",
    "        \n",
    "    def get_weight(self):\n",
    "        return self.__weight\n",
    "    \n",
    "    def set_sound(self, sound):\n",
    "        self.__sound = sound\n",
    "        \n",
    "    def get_sound(self):\n",
    "        return self.__sound\n",
    "    \n",
    "    def get_type(self):\n",
    "        print('Animal')\n",
    "        \n",
    "    def toString(self):\n",
    "        return \"{} is {} cm tall and {} kg and say {}\".format(self.__name,\n",
    "                                                             self.__height,                                                           self.__weight,\n",
    "                                                             self.__sound)"
   ]
  },
  {
   "cell_type": "code",
   "execution_count": 50,
   "metadata": {},
   "outputs": [
    {
     "name": "stdout",
     "output_type": "stream",
     "text": [
      "Whiskers is 33 cm tall and 10 kg and say Meow\n"
     ]
    }
   ],
   "source": [
    "cat = Animal('Whiskers', 33, 10, 'Meow')\n",
    "print(cat.toString())"
   ]
  },
  {
   "cell_type": "code",
   "execution_count": 55,
   "metadata": {},
   "outputs": [],
   "source": [
    "#inheritance \n",
    "class Dog(Animal):\n",
    "    __owner = \"\"\n",
    "    \n",
    "    def __init__(self, name, height, weight, sound, owner):\n",
    "        self.__owner = owner\n",
    "        super(Dog, self).__init__(name, height, weight, sound)\n",
    "        \n",
    "    def set_owner(self, owner):\n",
    "        self.__owner = owner\n",
    "        \n",
    "    def get_owner(self):\n",
    "        return self.__owner\n",
    "    \n",
    "    def get_type(self):\n",
    "        print('Dog')\n",
    "        \n",
    "    def toString(self):\n",
    "        return \"{} is {} cm tall and {} kg and say {} and {} is owner\".format(self.__name,\n",
    "                                                                        self.__height,\n",
    "                                                                        self.__weight,\n",
    "                                                                        self.__sound,\n",
    "                                                                        self.__owner)\n",
    "#doesn't work.    "
   ]
  },
  {
   "cell_type": "code",
   "execution_count": 59,
   "metadata": {},
   "outputs": [
    {
     "ename": "TypeError",
     "evalue": "super() argument 1 must be type, not classobj",
     "output_type": "error",
     "traceback": [
      "\u001b[0;31m---------------------------------------------------------------------------\u001b[0m",
      "\u001b[0;31mTypeError\u001b[0m                                 Traceback (most recent call last)",
      "\u001b[0;32m<ipython-input-59-bdcc9349c604>\u001b[0m in \u001b[0;36m<module>\u001b[0;34m()\u001b[0m\n\u001b[0;32m----> 1\u001b[0;31m \u001b[0mspot\u001b[0m \u001b[0;34m=\u001b[0m \u001b[0mDog\u001b[0m\u001b[0;34m(\u001b[0m\u001b[0;34m\"Spot\"\u001b[0m\u001b[0;34m,\u001b[0m \u001b[0;36m53\u001b[0m\u001b[0;34m,\u001b[0m \u001b[0;36m27\u001b[0m\u001b[0;34m,\u001b[0m \u001b[0;34m'ruff'\u001b[0m\u001b[0;34m,\u001b[0m \u001b[0;34m'Beth'\u001b[0m\u001b[0;34m)\u001b[0m\u001b[0;34m\u001b[0m\u001b[0m\n\u001b[0m\u001b[1;32m      2\u001b[0m \u001b[0;32mprint\u001b[0m\u001b[0;34m(\u001b[0m\u001b[0mspot\u001b[0m\u001b[0;34m.\u001b[0m\u001b[0mtoString\u001b[0m\u001b[0;34m(\u001b[0m\u001b[0;34m)\u001b[0m\u001b[0;34m)\u001b[0m\u001b[0;34m\u001b[0m\u001b[0m\n\u001b[1;32m      3\u001b[0m \u001b[0;34m\u001b[0m\u001b[0m\n\u001b[1;32m      4\u001b[0m \u001b[0;31m#method overloading: perform diff tasks based on attributes\u001b[0m\u001b[0;34m\u001b[0m\u001b[0;34m\u001b[0m\u001b[0m\n",
      "\u001b[0;32m<ipython-input-55-9e6ab596218a>\u001b[0m in \u001b[0;36m__init__\u001b[0;34m(self, name, height, weight, sound, owner)\u001b[0m\n\u001b[1;32m      5\u001b[0m     \u001b[0;32mdef\u001b[0m \u001b[0m__init__\u001b[0m\u001b[0;34m(\u001b[0m\u001b[0mself\u001b[0m\u001b[0;34m,\u001b[0m \u001b[0mname\u001b[0m\u001b[0;34m,\u001b[0m \u001b[0mheight\u001b[0m\u001b[0;34m,\u001b[0m \u001b[0mweight\u001b[0m\u001b[0;34m,\u001b[0m \u001b[0msound\u001b[0m\u001b[0;34m,\u001b[0m \u001b[0mowner\u001b[0m\u001b[0;34m)\u001b[0m\u001b[0;34m:\u001b[0m\u001b[0;34m\u001b[0m\u001b[0m\n\u001b[1;32m      6\u001b[0m         \u001b[0mself\u001b[0m\u001b[0;34m.\u001b[0m\u001b[0m__owner\u001b[0m \u001b[0;34m=\u001b[0m \u001b[0mowner\u001b[0m\u001b[0;34m\u001b[0m\u001b[0m\n\u001b[0;32m----> 7\u001b[0;31m         \u001b[0msuper\u001b[0m\u001b[0;34m(\u001b[0m\u001b[0mDog\u001b[0m\u001b[0;34m,\u001b[0m \u001b[0mself\u001b[0m\u001b[0;34m)\u001b[0m\u001b[0;34m.\u001b[0m\u001b[0m__init__\u001b[0m\u001b[0;34m(\u001b[0m\u001b[0mname\u001b[0m\u001b[0;34m,\u001b[0m \u001b[0mheight\u001b[0m\u001b[0;34m,\u001b[0m \u001b[0mweight\u001b[0m\u001b[0;34m,\u001b[0m \u001b[0msound\u001b[0m\u001b[0;34m)\u001b[0m\u001b[0;34m\u001b[0m\u001b[0m\n\u001b[0m\u001b[1;32m      8\u001b[0m \u001b[0;34m\u001b[0m\u001b[0m\n\u001b[1;32m      9\u001b[0m     \u001b[0;32mdef\u001b[0m \u001b[0mset_owner\u001b[0m\u001b[0;34m(\u001b[0m\u001b[0mself\u001b[0m\u001b[0;34m,\u001b[0m \u001b[0mowner\u001b[0m\u001b[0;34m)\u001b[0m\u001b[0;34m:\u001b[0m\u001b[0;34m\u001b[0m\u001b[0m\n",
      "\u001b[0;31mTypeError\u001b[0m: super() argument 1 must be type, not classobj"
     ]
    }
   ],
   "source": [
    "spot = Dog(\"Spot\", 53, 27, 'ruff', 'Beth')\n",
    "print(spot.toString())\n",
    "\n",
    "#method overloading: perform diff tasks based on attributes"
   ]
  },
  {
   "cell_type": "code",
   "execution_count": null,
   "metadata": {
    "collapsed": true
   },
   "outputs": [],
   "source": []
  },
  {
   "cell_type": "code",
   "execution_count": null,
   "metadata": {
    "collapsed": true
   },
   "outputs": [],
   "source": []
  },
  {
   "cell_type": "code",
   "execution_count": null,
   "metadata": {
    "collapsed": true
   },
   "outputs": [],
   "source": []
  },
  {
   "cell_type": "code",
   "execution_count": null,
   "metadata": {
    "collapsed": true
   },
   "outputs": [],
   "source": []
  },
  {
   "cell_type": "code",
   "execution_count": null,
   "metadata": {
    "collapsed": true
   },
   "outputs": [],
   "source": []
  },
  {
   "cell_type": "code",
   "execution_count": null,
   "metadata": {
    "collapsed": true
   },
   "outputs": [],
   "source": []
  },
  {
   "cell_type": "code",
   "execution_count": null,
   "metadata": {
    "collapsed": true
   },
   "outputs": [],
   "source": []
  },
  {
   "cell_type": "code",
   "execution_count": null,
   "metadata": {
    "collapsed": true
   },
   "outputs": [],
   "source": []
  },
  {
   "cell_type": "code",
   "execution_count": null,
   "metadata": {
    "collapsed": true
   },
   "outputs": [],
   "source": []
  }
 ],
 "metadata": {
  "kernelspec": {
   "display_name": "Python 2",
   "language": "python",
   "name": "python2"
  },
  "language_info": {
   "codemirror_mode": {
    "name": "ipython",
    "version": 2
   },
   "file_extension": ".py",
   "mimetype": "text/x-python",
   "name": "python",
   "nbconvert_exporter": "python",
   "pygments_lexer": "ipython2",
   "version": "2.7.13"
  }
 },
 "nbformat": 4,
 "nbformat_minor": 2
}
